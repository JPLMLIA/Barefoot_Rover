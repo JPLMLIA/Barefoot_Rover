{
 "cells": [
  {
   "cell_type": "code",
   "execution_count": 1,
   "metadata": {},
   "outputs": [
    {
     "name": "stderr",
     "output_type": "stream",
     "text": [
      "/home/phorton/.conda/envs/barefoot/lib/python3.7/site-packages/sklearn/utils/__init__.py:4: DeprecationWarning: Using or importing the ABCs from 'collections' instead of from 'collections.abc' is deprecated, and in 3.8 it will stop working\n",
      "  from collections import Sequence\n",
      "/home/phorton/.conda/envs/barefoot/lib/python3.7/site-packages/sklearn/ensemble/weight_boosting.py:29: DeprecationWarning: numpy.core.umath_tests is an internal NumPy module and should not be imported. It will be removed in a future NumPy release.\n",
      "  from numpy.core.umath_tests import inner1d\n"
     ]
    }
   ],
   "source": [
    "import glob, os, sys\n",
    "os.chdir(\"..\")\n",
    "import numpy as np\n",
    "import compute_data\n",
    "import compute_features\n",
    "import train_model\n",
    "import bf_globals\n",
    "from collections import namedtuple\n",
    "import h5py\n",
    "import compute_features"
   ]
  },
  {
   "cell_type": "code",
   "execution_count": 2,
   "metadata": {},
   "outputs": [],
   "source": [
    "module = 'rock'\n",
    "version = 'v4'\n",
    "date = '07152019'\n",
    "model_type = 'classifier'\n",
    "burnin = [200, None]\n",
    "    \n",
    "datadir = '/data/MLIA_active_data/data_barefoot/'\n",
    "other = glob.glob(datadir + 'train/slip_detection/stringpot_corrected/*')\n",
    "np.random.seed(6729)\n",
    "sub_idx = np.random.choice(np.arange(len(other)), 30, replace=False)\n",
    "other_sub = [x.split('/')[-1] for x in [other[i] for i in sub_idx]]\n",
    "regex = ['*rock-above*', '*br*', '*flatlvl*'] + other_sub\n",
    "subfolders = ['train/rock_detection', 'train/rock_detection', 'train/composition'] + \\\n",
    "              list(np.repeat('train/slip_detection/stringpot_corrected', len(other_sub)))"
   ]
  },
  {
   "cell_type": "code",
   "execution_count": 3,
   "metadata": {},
   "outputs": [],
   "source": [
    "classdir = datadir + 'domine/' + module + '/' + version + '/'\n",
    "if not os.path.exists(classdir):\n",
    "    os.makedirs(classdir)\n",
    "    \n",
    "data_file = classdir + '_'.join(['data', module, version, date]) + '.h5'\n",
    "feature_file = '_'.join(['features', module, version, date])"
   ]
  },
  {
   "cell_type": "code",
   "execution_count": 4,
   "metadata": {},
   "outputs": [],
   "source": [
    "# data = compute_data.unify_experiment_data(datadir, subfolders, regex, \n",
    "#                                           data_file, fileList = None)"
   ]
  },
  {
   "cell_type": "code",
   "execution_count": 5,
   "metadata": {},
   "outputs": [],
   "source": [
    "bf_globals.bf_log_reset('compute_features_log.txt')"
   ]
  },
  {
   "cell_type": "code",
   "execution_count": 6,
   "metadata": {},
   "outputs": [
    {
     "name": "stdout",
     "output_type": "stream",
     "text": [
      "Leading burn in set to 200\n",
      "\n",
      "WARNING: Leading burn value of None couldn't be parsed.  Set to default of None\n",
      "\n",
      "170 of 181 slip0.409_terrain_flatlvl_20_mins30_00.0_20181119_01\n",
      "\n",
      "data points read: 757\n",
      "\n"
     ]
    },
    {
     "name": "stderr",
     "output_type": "stream",
     "text": [
      "/home/phorton/.conda/envs/barefoot/lib/python3.7/site-packages/scipy/stats/stats.py:1713: FutureWarning: Using a non-tuple sequence for multidimensional indexing is deprecated; use `arr[tuple(seq)]` instead of `arr[seq]`. In the future this will be interpreted as an array index, `arr[np.array(seq)]`, which will result either in an error or a different result.\n",
      "  return np.add.reduce(sorted[indexer] * weights, axis=axis) / sumval\n",
      "/home/phorton/.conda/envs/barefoot/lib/python3.7/site-packages/skimage/measure/_regionprops.py:250: UserWarning: regionprops and image moments (including moments, normalized moments, central moments, and inertia tensor) of 2D images will change from xy coordinates to rc coordinates in version 0.16.\n",
      "See http://scikit-image.org/docs/0.14.x/release_notes_and_installation.html#deprecations for details on how to avoid this message.\n",
      "  warn(XY_TO_RC_DEPRECATION_MESSAGE)\n",
      "/home/phorton/.conda/envs/barefoot/lib/python3.7/site-packages/skimage/measure/_regionprops.py:260: UserWarning: regionprops and image moments (including moments, normalized moments, central moments, and inertia tensor) of 2D images will change from xy coordinates to rc coordinates in version 0.16.\n",
      "See http://scikit-image.org/docs/0.14.x/release_notes_and_installation.html#deprecations for details on how to avoid this message.\n",
      "  warn(XY_TO_RC_DEPRECATION_MESSAGE)\n",
      "/home/phorton/Barefoot_Rover/src/ML/tools_EIS.py:400: RuntimeWarning: Mean of empty slice\n",
      "  features['amplitude_' + str(s) ] = np.nanmean(data_binned['amp'][interval, idx])\n",
      "/home/phorton/Barefoot_Rover/src/ML/tools_EIS.py:401: RuntimeWarning: Mean of empty slice\n",
      "  features['phase_' + str(s) ] = np.nanmean(data_binned['phase'][interval, idx])\n"
     ]
    },
    {
     "name": "stdout",
     "output_type": "stream",
     "text": [
      "features done... slip0.409_terrain_flatlvl_20_mins30_00.0_20181119_01\n",
      "Dimension of sparse feature matrix: (557,)\n",
      "\n",
      "Dimension of feature selected matrix: (557,)\n",
      "\n",
      "Dimension of NaN cleansed matrix: (557,)\n",
      "\n"
     ]
    }
   ],
   "source": [
    "oo = compute_features.generate_features(datadir, classdir, data_file, feature_file, burnin, False, module, True)"
   ]
  },
  {
   "cell_type": "code",
   "execution_count": null,
   "metadata": {},
   "outputs": [],
   "source": []
  },
  {
   "cell_type": "code",
   "execution_count": null,
   "metadata": {},
   "outputs": [],
   "source": []
  },
  {
   "cell_type": "code",
   "execution_count": null,
   "metadata": {},
   "outputs": [],
   "source": []
  }
 ],
 "metadata": {
  "kernelspec": {
   "display_name": "Python 2",
   "language": "python",
   "name": "python2"
  },
  "language_info": {
   "codemirror_mode": {
    "name": "ipython",
    "version": 3
   },
   "file_extension": ".py",
   "mimetype": "text/x-python",
   "name": "python",
   "nbconvert_exporter": "python",
   "pygments_lexer": "ipython3",
   "version": "3.7.1"
  }
 },
 "nbformat": 4,
 "nbformat_minor": 2
}
